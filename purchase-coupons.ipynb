{
 "cells": [
  {
   "cell_type": "code",
   "execution_count": 1,
   "metadata": {},
   "outputs": [],
   "source": [
    "import pandas as pd\n",
    "import numpy as np\n",
    "import matplotlib\n",
    "import matplotlib.pyplot as plt\n",
    "from datetime import datetime\n",
    "from sklearn.utils import resample\n",
    "from sklearn.model_selection import train_test_split\n",
    "from sklearn.linear_model import LogisticRegression\n",
    "from sklearn.ensemble import RandomForestClassifier\n",
    "from sklearn import svm\n",
    "%matplotlib inline"
   ]
  },
  {
   "cell_type": "code",
   "execution_count": 2,
   "metadata": {},
   "outputs": [],
   "source": [
    "user_list            = pd.read_csv(\"../input/purchase-coupons-data/user_list.csv\")\n",
    "coupon_area_train    = pd.read_csv(\"../input/purchase-coupons-data/coupon_area_train.csv\")\n",
    "coupon_detail_train  = pd.read_csv(\"../input/purchase-coupons-data/coupon_detail_train.csv\")\n",
    "coupon_list_train    = pd.read_csv(\"../input/purchase-coupons-data/coupon_list_train.csv\")\n",
    "coupon_visit_train   = pd.read_csv(\"../input/purchase-coupons-visit/coupon_visit_train.csv\")\n",
    "#prefecture_locations = pd.read_csv(\"../input/purchase-coupons-data/prefecture_locations.csv\")"
   ]
  },
  {
   "cell_type": "code",
   "execution_count": 3,
   "metadata": {},
   "outputs": [],
   "source": [
    "import json\n",
    "\n",
    "# read file\n",
    "with open('../input/purchase-coupons-data/translations.json', 'r') as myfile:\n",
    "    data=myfile.read()\n",
    "\n",
    "# parse file\n",
    "translations = json.loads(data)"
   ]
  },
  {
   "cell_type": "code",
   "execution_count": 4,
   "metadata": {},
   "outputs": [],
   "source": [
    "user_list['PREF_NAME'] = user_list['PREF_NAME'].map(translations)\n",
    "coupon_area_train['PREF_NAME'] = coupon_area_train['PREF_NAME'].map(translations)\n",
    "coupon_area_train['SMALL_AREA_NAME'] = coupon_area_train['SMALL_AREA_NAME'].map(translations)\n",
    "coupon_detail_train['SMALL_AREA_NAME'] = coupon_detail_train['SMALL_AREA_NAME'].map(translations)\n",
    "#prefecture_locations['PREF_NAME'] = prefecture_locations['PREF_NAME'].map(translations)\n",
    "#prefecture_locations['PREFECTUAL_OFFICE'] = prefecture_locations['PREFECTUAL_OFFICE'].map(translations)"
   ]
  },
  {
   "cell_type": "code",
   "execution_count": 5,
   "metadata": {},
   "outputs": [],
   "source": [
    "coupon_list_english = ['CAPSULE_TEXT','GENRE_NAME','large_area_name','ken_name','ken_name','small_area_name']\n",
    "coupon_list_train[coupon_list_english] = coupon_list_train[coupon_list_english].apply(lambda x: x.map(translations))"
   ]
  },
  {
   "cell_type": "code",
   "execution_count": 6,
   "metadata": {},
   "outputs": [
    {
     "data": {
      "text/html": [
       "<div>\n",
       "<style scoped>\n",
       "    .dataframe tbody tr th:only-of-type {\n",
       "        vertical-align: middle;\n",
       "    }\n",
       "\n",
       "    .dataframe tbody tr th {\n",
       "        vertical-align: top;\n",
       "    }\n",
       "\n",
       "    .dataframe thead th {\n",
       "        text-align: right;\n",
       "    }\n",
       "</style>\n",
       "<table border=\"1\" class=\"dataframe\">\n",
       "  <thead>\n",
       "    <tr style=\"text-align: right;\">\n",
       "      <th></th>\n",
       "      <th>REG_DATE</th>\n",
       "      <th>SEX_ID</th>\n",
       "      <th>AGE</th>\n",
       "      <th>WITHDRAW_DATE</th>\n",
       "      <th>PREF_NAME</th>\n",
       "      <th>USER_ID_hash</th>\n",
       "    </tr>\n",
       "  </thead>\n",
       "  <tbody>\n",
       "    <tr>\n",
       "      <td>0</td>\n",
       "      <td>2012-03-28 14:14:18</td>\n",
       "      <td>f</td>\n",
       "      <td>25</td>\n",
       "      <td>NaN</td>\n",
       "      <td>NaN</td>\n",
       "      <td>d9dca3cb44bab12ba313eaa681f663eb</td>\n",
       "    </tr>\n",
       "    <tr>\n",
       "      <td>1</td>\n",
       "      <td>2011-05-18 00:41:48</td>\n",
       "      <td>f</td>\n",
       "      <td>34</td>\n",
       "      <td>NaN</td>\n",
       "      <td>Tokyo</td>\n",
       "      <td>560574a339f1b25e57b0221e486907ed</td>\n",
       "    </tr>\n",
       "    <tr>\n",
       "      <td>2</td>\n",
       "      <td>2011-06-13 16:36:58</td>\n",
       "      <td>m</td>\n",
       "      <td>41</td>\n",
       "      <td>NaN</td>\n",
       "      <td>Aichi Prefecture</td>\n",
       "      <td>e66ae91b978b3229f8fd858c80615b73</td>\n",
       "    </tr>\n",
       "    <tr>\n",
       "      <td>3</td>\n",
       "      <td>2012-02-08 12:56:15</td>\n",
       "      <td>m</td>\n",
       "      <td>25</td>\n",
       "      <td>NaN</td>\n",
       "      <td>NaN</td>\n",
       "      <td>43fc18f32eafb05713ec02935e2c2825</td>\n",
       "    </tr>\n",
       "    <tr>\n",
       "      <td>4</td>\n",
       "      <td>2011-05-22 23:43:56</td>\n",
       "      <td>m</td>\n",
       "      <td>62</td>\n",
       "      <td>NaN</td>\n",
       "      <td>Kanagawa Prefecture</td>\n",
       "      <td>dc6df8aa860f8db0d710ce9d4839840f</td>\n",
       "    </tr>\n",
       "  </tbody>\n",
       "</table>\n",
       "</div>"
      ],
      "text/plain": [
       "              REG_DATE SEX_ID  AGE WITHDRAW_DATE            PREF_NAME  \\\n",
       "0  2012-03-28 14:14:18      f   25           NaN                  NaN   \n",
       "1  2011-05-18 00:41:48      f   34           NaN                Tokyo   \n",
       "2  2011-06-13 16:36:58      m   41           NaN     Aichi Prefecture   \n",
       "3  2012-02-08 12:56:15      m   25           NaN                  NaN   \n",
       "4  2011-05-22 23:43:56      m   62           NaN  Kanagawa Prefecture   \n",
       "\n",
       "                       USER_ID_hash  \n",
       "0  d9dca3cb44bab12ba313eaa681f663eb  \n",
       "1  560574a339f1b25e57b0221e486907ed  \n",
       "2  e66ae91b978b3229f8fd858c80615b73  \n",
       "3  43fc18f32eafb05713ec02935e2c2825  \n",
       "4  dc6df8aa860f8db0d710ce9d4839840f  "
      ]
     },
     "execution_count": 6,
     "metadata": {},
     "output_type": "execute_result"
    }
   ],
   "source": [
    "user_list.head()"
   ]
  },
  {
   "cell_type": "code",
   "execution_count": 7,
   "metadata": {},
   "outputs": [
    {
     "data": {
      "text/html": [
       "<div>\n",
       "<style scoped>\n",
       "    .dataframe tbody tr th:only-of-type {\n",
       "        vertical-align: middle;\n",
       "    }\n",
       "\n",
       "    .dataframe tbody tr th {\n",
       "        vertical-align: top;\n",
       "    }\n",
       "\n",
       "    .dataframe thead th {\n",
       "        text-align: right;\n",
       "    }\n",
       "</style>\n",
       "<table border=\"1\" class=\"dataframe\">\n",
       "  <thead>\n",
       "    <tr style=\"text-align: right;\">\n",
       "      <th></th>\n",
       "      <th>SMALL_AREA_NAME</th>\n",
       "      <th>PREF_NAME</th>\n",
       "      <th>COUPON_ID_hash</th>\n",
       "    </tr>\n",
       "  </thead>\n",
       "  <tbody>\n",
       "    <tr>\n",
       "      <td>0</td>\n",
       "      <td>Saitama</td>\n",
       "      <td>Saitama Prefecture</td>\n",
       "      <td>6b263844241eea98c5a97f1335ea82af</td>\n",
       "    </tr>\n",
       "    <tr>\n",
       "      <td>1</td>\n",
       "      <td>Chiba</td>\n",
       "      <td>Chiba Prefecture</td>\n",
       "      <td>cc031f250e8bad1e24060263b9fc0ddd</td>\n",
       "    </tr>\n",
       "    <tr>\n",
       "      <td>2</td>\n",
       "      <td>Chiba</td>\n",
       "      <td>Chiba Prefecture</td>\n",
       "      <td>ba5e9b7453ca52ff711635a5d2e8102d</td>\n",
       "    </tr>\n",
       "    <tr>\n",
       "      <td>3</td>\n",
       "      <td>Chiba</td>\n",
       "      <td>Chiba Prefecture</td>\n",
       "      <td>3e1ffbedca3569f9e8032d401e8cb4e6</td>\n",
       "    </tr>\n",
       "    <tr>\n",
       "      <td>4</td>\n",
       "      <td>Chiba</td>\n",
       "      <td>Chiba Prefecture</td>\n",
       "      <td>782934b6c815b4030ea204eef7d4a734</td>\n",
       "    </tr>\n",
       "  </tbody>\n",
       "</table>\n",
       "</div>"
      ],
      "text/plain": [
       "  SMALL_AREA_NAME           PREF_NAME                    COUPON_ID_hash\n",
       "0         Saitama  Saitama Prefecture  6b263844241eea98c5a97f1335ea82af\n",
       "1           Chiba    Chiba Prefecture  cc031f250e8bad1e24060263b9fc0ddd\n",
       "2           Chiba    Chiba Prefecture  ba5e9b7453ca52ff711635a5d2e8102d\n",
       "3           Chiba    Chiba Prefecture  3e1ffbedca3569f9e8032d401e8cb4e6\n",
       "4           Chiba    Chiba Prefecture  782934b6c815b4030ea204eef7d4a734"
      ]
     },
     "execution_count": 7,
     "metadata": {},
     "output_type": "execute_result"
    }
   ],
   "source": [
    "coupon_area_train.head()"
   ]
  },
  {
   "cell_type": "code",
   "execution_count": 8,
   "metadata": {},
   "outputs": [
    {
     "data": {
      "text/html": [
       "<div>\n",
       "<style scoped>\n",
       "    .dataframe tbody tr th:only-of-type {\n",
       "        vertical-align: middle;\n",
       "    }\n",
       "\n",
       "    .dataframe tbody tr th {\n",
       "        vertical-align: top;\n",
       "    }\n",
       "\n",
       "    .dataframe thead th {\n",
       "        text-align: right;\n",
       "    }\n",
       "</style>\n",
       "<table border=\"1\" class=\"dataframe\">\n",
       "  <thead>\n",
       "    <tr style=\"text-align: right;\">\n",
       "      <th></th>\n",
       "      <th>ITEM_COUNT</th>\n",
       "      <th>I_DATE</th>\n",
       "      <th>SMALL_AREA_NAME</th>\n",
       "      <th>PURCHASEID_hash</th>\n",
       "      <th>USER_ID_hash</th>\n",
       "      <th>COUPON_ID_hash</th>\n",
       "    </tr>\n",
       "  </thead>\n",
       "  <tbody>\n",
       "    <tr>\n",
       "      <td>0</td>\n",
       "      <td>1</td>\n",
       "      <td>2012-03-28 15:06:06</td>\n",
       "      <td>Hyogo</td>\n",
       "      <td>c820a8882374a4e472f0984a8825893f</td>\n",
       "      <td>d9dca3cb44bab12ba313eaa681f663eb</td>\n",
       "      <td>34c48f84026e08355dc3bd19b427f09a</td>\n",
       "    </tr>\n",
       "    <tr>\n",
       "      <td>1</td>\n",
       "      <td>1</td>\n",
       "      <td>2011-07-04 23:52:54</td>\n",
       "      <td>Ginza Shinbashi, Tokyo, Ueno</td>\n",
       "      <td>1b4eb2435421ede98c8931c42e8220ec</td>\n",
       "      <td>560574a339f1b25e57b0221e486907ed</td>\n",
       "      <td>767673b7a777854a92b73b0934ddfae7</td>\n",
       "    </tr>\n",
       "    <tr>\n",
       "      <td>2</td>\n",
       "      <td>1</td>\n",
       "      <td>2011-07-16 00:52:49</td>\n",
       "      <td>Ebisu, Meguro Shinagawa</td>\n",
       "      <td>36b5f9ba46c44b65587d0b16f2e4c77f</td>\n",
       "      <td>560574a339f1b25e57b0221e486907ed</td>\n",
       "      <td>4f3b5b91d9831192557c056022fdc1f2</td>\n",
       "    </tr>\n",
       "    <tr>\n",
       "      <td>3</td>\n",
       "      <td>1</td>\n",
       "      <td>2011-07-16 00:54:53</td>\n",
       "      <td>Ebisu, Meguro Shinagawa</td>\n",
       "      <td>2f30f46937cc9004774e576914b2aa1a</td>\n",
       "      <td>560574a339f1b25e57b0221e486907ed</td>\n",
       "      <td>4f3b5b91d9831192557c056022fdc1f2</td>\n",
       "    </tr>\n",
       "    <tr>\n",
       "      <td>4</td>\n",
       "      <td>1</td>\n",
       "      <td>2011-07-16 00:55:52</td>\n",
       "      <td>Ebisu, Meguro Shinagawa</td>\n",
       "      <td>4d000c64a55ac573d0ae1a8f03677f50</td>\n",
       "      <td>560574a339f1b25e57b0221e486907ed</td>\n",
       "      <td>4f3b5b91d9831192557c056022fdc1f2</td>\n",
       "    </tr>\n",
       "  </tbody>\n",
       "</table>\n",
       "</div>"
      ],
      "text/plain": [
       "   ITEM_COUNT               I_DATE               SMALL_AREA_NAME  \\\n",
       "0           1  2012-03-28 15:06:06                         Hyogo   \n",
       "1           1  2011-07-04 23:52:54  Ginza Shinbashi, Tokyo, Ueno   \n",
       "2           1  2011-07-16 00:52:49       Ebisu, Meguro Shinagawa   \n",
       "3           1  2011-07-16 00:54:53       Ebisu, Meguro Shinagawa   \n",
       "4           1  2011-07-16 00:55:52       Ebisu, Meguro Shinagawa   \n",
       "\n",
       "                    PURCHASEID_hash                      USER_ID_hash  \\\n",
       "0  c820a8882374a4e472f0984a8825893f  d9dca3cb44bab12ba313eaa681f663eb   \n",
       "1  1b4eb2435421ede98c8931c42e8220ec  560574a339f1b25e57b0221e486907ed   \n",
       "2  36b5f9ba46c44b65587d0b16f2e4c77f  560574a339f1b25e57b0221e486907ed   \n",
       "3  2f30f46937cc9004774e576914b2aa1a  560574a339f1b25e57b0221e486907ed   \n",
       "4  4d000c64a55ac573d0ae1a8f03677f50  560574a339f1b25e57b0221e486907ed   \n",
       "\n",
       "                     COUPON_ID_hash  \n",
       "0  34c48f84026e08355dc3bd19b427f09a  \n",
       "1  767673b7a777854a92b73b0934ddfae7  \n",
       "2  4f3b5b91d9831192557c056022fdc1f2  \n",
       "3  4f3b5b91d9831192557c056022fdc1f2  \n",
       "4  4f3b5b91d9831192557c056022fdc1f2  "
      ]
     },
     "execution_count": 8,
     "metadata": {},
     "output_type": "execute_result"
    }
   ],
   "source": [
    "coupon_detail_train.head()"
   ]
  },
  {
   "cell_type": "code",
   "execution_count": 9,
   "metadata": {},
   "outputs": [
    {
     "data": {
      "text/plain": [
       "PURCHASE_FLG           2833180\n",
       "I_DATE                 2833180\n",
       "PAGE_SERIAL            2833180\n",
       "REFERRER_hash          2833180\n",
       "VIEW_COUPON_ID_hash    2833180\n",
       "USER_ID_hash           2833180\n",
       "SESSION_ID_hash        2833180\n",
       "PURCHASEID_hash         122389\n",
       "dtype: int64"
      ]
     },
     "execution_count": 9,
     "metadata": {},
     "output_type": "execute_result"
    }
   ],
   "source": [
    "coupon_visit_train.count()"
   ]
  },
  {
   "cell_type": "markdown",
   "metadata": {},
   "source": [
    "### Exploratory Analysis"
   ]
  },
  {
   "cell_type": "code",
   "execution_count": 10,
   "metadata": {},
   "outputs": [
    {
     "data": {
      "text/plain": [
       "PURCHASE_FLG           2833180\n",
       "I_DATE                 2833180\n",
       "PAGE_SERIAL            2833180\n",
       "REFERRER_hash          2833180\n",
       "VIEW_COUPON_ID_hash    2833180\n",
       "USER_ID_hash           2833180\n",
       "SESSION_ID_hash        2833180\n",
       "PURCHASEID_hash         122389\n",
       "dtype: int64"
      ]
     },
     "execution_count": 10,
     "metadata": {},
     "output_type": "execute_result"
    }
   ],
   "source": [
    "coupon_visit_train.count()"
   ]
  },
  {
   "cell_type": "code",
   "execution_count": 11,
   "metadata": {},
   "outputs": [],
   "source": [
    "visit_coupon = pd.merge(coupon_visit_train, coupon_list_train, how = 'inner',left_on=\"VIEW_COUPON_ID_hash\", right_on=\"COUPON_ID_hash\")"
   ]
  },
  {
   "cell_type": "code",
   "execution_count": 12,
   "metadata": {},
   "outputs": [
    {
     "data": {
      "text/plain": [
       "PURCHASE_FLG           2517206\n",
       "I_DATE                 2517206\n",
       "PAGE_SERIAL            2517206\n",
       "REFERRER_hash          2517206\n",
       "VIEW_COUPON_ID_hash    2517206\n",
       "dtype: int64"
      ]
     },
     "execution_count": 12,
     "metadata": {},
     "output_type": "execute_result"
    }
   ],
   "source": [
    "visit_coupon.count().head()"
   ]
  },
  {
   "cell_type": "code",
   "execution_count": 13,
   "metadata": {},
   "outputs": [],
   "source": [
    "user_visit_coupon = pd.merge(visit_coupon, user_list, how = 'left', left_on=\"USER_ID_hash\", right_on=\"USER_ID_hash\")"
   ]
  },
  {
   "cell_type": "code",
   "execution_count": 14,
   "metadata": {},
   "outputs": [
    {
     "data": {
      "text/html": [
       "<div>\n",
       "<style scoped>\n",
       "    .dataframe tbody tr th:only-of-type {\n",
       "        vertical-align: middle;\n",
       "    }\n",
       "\n",
       "    .dataframe tbody tr th {\n",
       "        vertical-align: top;\n",
       "    }\n",
       "\n",
       "    .dataframe thead th {\n",
       "        text-align: right;\n",
       "    }\n",
       "</style>\n",
       "<table border=\"1\" class=\"dataframe\">\n",
       "  <thead>\n",
       "    <tr style=\"text-align: right;\">\n",
       "      <th></th>\n",
       "      <th>PURCHASE_FLG</th>\n",
       "      <th>PAGE_SERIAL</th>\n",
       "      <th>PRICE_RATE</th>\n",
       "      <th>CATALOG_PRICE</th>\n",
       "      <th>DISCOUNT_PRICE</th>\n",
       "      <th>DISPPERIOD</th>\n",
       "      <th>VALIDPERIOD</th>\n",
       "      <th>USABLE_DATE_MON</th>\n",
       "      <th>USABLE_DATE_TUE</th>\n",
       "      <th>USABLE_DATE_WED</th>\n",
       "      <th>USABLE_DATE_THU</th>\n",
       "      <th>USABLE_DATE_FRI</th>\n",
       "      <th>USABLE_DATE_SAT</th>\n",
       "      <th>USABLE_DATE_SUN</th>\n",
       "      <th>USABLE_DATE_HOLIDAY</th>\n",
       "      <th>USABLE_DATE_BEFORE_HOLIDAY</th>\n",
       "      <th>AGE</th>\n",
       "    </tr>\n",
       "  </thead>\n",
       "  <tbody>\n",
       "    <tr>\n",
       "      <td>count</td>\n",
       "      <td>2.517206e+06</td>\n",
       "      <td>2.517206e+06</td>\n",
       "      <td>2.517206e+06</td>\n",
       "      <td>2.517206e+06</td>\n",
       "      <td>2.517206e+06</td>\n",
       "      <td>2.517206e+06</td>\n",
       "      <td>1.744733e+06</td>\n",
       "      <td>1.538109e+06</td>\n",
       "      <td>1.538109e+06</td>\n",
       "      <td>1.538109e+06</td>\n",
       "      <td>1.538109e+06</td>\n",
       "      <td>1.538109e+06</td>\n",
       "      <td>1.538109e+06</td>\n",
       "      <td>1.538109e+06</td>\n",
       "      <td>1.538109e+06</td>\n",
       "      <td>1.538109e+06</td>\n",
       "      <td>2.517206e+06</td>\n",
       "    </tr>\n",
       "    <tr>\n",
       "      <td>mean</td>\n",
       "      <td>4.862097e-02</td>\n",
       "      <td>7.636990e+00</td>\n",
       "      <td>5.833960e+01</td>\n",
       "      <td>1.080425e+04</td>\n",
       "      <td>4.279764e+03</td>\n",
       "      <td>3.786802e+00</td>\n",
       "      <td>1.256226e+02</td>\n",
       "      <td>9.679815e-01</td>\n",
       "      <td>9.828231e-01</td>\n",
       "      <td>9.913420e-01</td>\n",
       "      <td>9.945030e-01</td>\n",
       "      <td>1.017453e+00</td>\n",
       "      <td>1.136544e+00</td>\n",
       "      <td>9.327486e-01</td>\n",
       "      <td>9.593182e-01</td>\n",
       "      <td>1.106846e+00</td>\n",
       "      <td>4.730055e+01</td>\n",
       "    </tr>\n",
       "    <tr>\n",
       "      <td>std</td>\n",
       "      <td>2.150744e-01</td>\n",
       "      <td>1.226163e+01</td>\n",
       "      <td>1.224105e+01</td>\n",
       "      <td>1.422837e+04</td>\n",
       "      <td>5.486774e+03</td>\n",
       "      <td>3.000429e+00</td>\n",
       "      <td>4.815364e+01</td>\n",
       "      <td>2.445966e-01</td>\n",
       "      <td>2.275536e-01</td>\n",
       "      <td>1.809349e-01</td>\n",
       "      <td>1.654044e-01</td>\n",
       "      <td>3.382537e-01</td>\n",
       "      <td>6.402163e-01</td>\n",
       "      <td>4.213224e-01</td>\n",
       "      <td>4.046429e-01</td>\n",
       "      <td>5.986488e-01</td>\n",
       "      <td>1.123943e+01</td>\n",
       "    </tr>\n",
       "    <tr>\n",
       "      <td>min</td>\n",
       "      <td>0.000000e+00</td>\n",
       "      <td>1.000000e+00</td>\n",
       "      <td>0.000000e+00</td>\n",
       "      <td>1.000000e+00</td>\n",
       "      <td>0.000000e+00</td>\n",
       "      <td>0.000000e+00</td>\n",
       "      <td>0.000000e+00</td>\n",
       "      <td>0.000000e+00</td>\n",
       "      <td>0.000000e+00</td>\n",
       "      <td>0.000000e+00</td>\n",
       "      <td>0.000000e+00</td>\n",
       "      <td>0.000000e+00</td>\n",
       "      <td>0.000000e+00</td>\n",
       "      <td>0.000000e+00</td>\n",
       "      <td>0.000000e+00</td>\n",
       "      <td>0.000000e+00</td>\n",
       "      <td>1.500000e+01</td>\n",
       "    </tr>\n",
       "    <tr>\n",
       "      <td>25%</td>\n",
       "      <td>0.000000e+00</td>\n",
       "      <td>2.000000e+00</td>\n",
       "      <td>5.000000e+01</td>\n",
       "      <td>3.249000e+03</td>\n",
       "      <td>1.470000e+03</td>\n",
       "      <td>3.000000e+00</td>\n",
       "      <td>8.900000e+01</td>\n",
       "      <td>1.000000e+00</td>\n",
       "      <td>1.000000e+00</td>\n",
       "      <td>1.000000e+00</td>\n",
       "      <td>1.000000e+00</td>\n",
       "      <td>1.000000e+00</td>\n",
       "      <td>1.000000e+00</td>\n",
       "      <td>1.000000e+00</td>\n",
       "      <td>1.000000e+00</td>\n",
       "      <td>1.000000e+00</td>\n",
       "      <td>3.900000e+01</td>\n",
       "    </tr>\n",
       "    <tr>\n",
       "      <td>50%</td>\n",
       "      <td>0.000000e+00</td>\n",
       "      <td>4.000000e+00</td>\n",
       "      <td>5.200000e+01</td>\n",
       "      <td>6.000000e+03</td>\n",
       "      <td>2.500000e+03</td>\n",
       "      <td>3.000000e+00</td>\n",
       "      <td>1.320000e+02</td>\n",
       "      <td>1.000000e+00</td>\n",
       "      <td>1.000000e+00</td>\n",
       "      <td>1.000000e+00</td>\n",
       "      <td>1.000000e+00</td>\n",
       "      <td>1.000000e+00</td>\n",
       "      <td>1.000000e+00</td>\n",
       "      <td>1.000000e+00</td>\n",
       "      <td>1.000000e+00</td>\n",
       "      <td>1.000000e+00</td>\n",
       "      <td>4.800000e+01</td>\n",
       "    </tr>\n",
       "    <tr>\n",
       "      <td>75%</td>\n",
       "      <td>0.000000e+00</td>\n",
       "      <td>9.000000e+00</td>\n",
       "      <td>6.400000e+01</td>\n",
       "      <td>1.320000e+04</td>\n",
       "      <td>4.900000e+03</td>\n",
       "      <td>4.000000e+00</td>\n",
       "      <td>1.760000e+02</td>\n",
       "      <td>1.000000e+00</td>\n",
       "      <td>1.000000e+00</td>\n",
       "      <td>1.000000e+00</td>\n",
       "      <td>1.000000e+00</td>\n",
       "      <td>1.000000e+00</td>\n",
       "      <td>2.000000e+00</td>\n",
       "      <td>1.000000e+00</td>\n",
       "      <td>1.000000e+00</td>\n",
       "      <td>1.000000e+00</td>\n",
       "      <td>5.500000e+01</td>\n",
       "    </tr>\n",
       "    <tr>\n",
       "      <td>max</td>\n",
       "      <td>1.000000e+00</td>\n",
       "      <td>1.368000e+03</td>\n",
       "      <td>1.000000e+02</td>\n",
       "      <td>6.800000e+05</td>\n",
       "      <td>1.000000e+05</td>\n",
       "      <td>3.600000e+01</td>\n",
       "      <td>1.790000e+02</td>\n",
       "      <td>2.000000e+00</td>\n",
       "      <td>2.000000e+00</td>\n",
       "      <td>2.000000e+00</td>\n",
       "      <td>2.000000e+00</td>\n",
       "      <td>2.000000e+00</td>\n",
       "      <td>2.000000e+00</td>\n",
       "      <td>2.000000e+00</td>\n",
       "      <td>2.000000e+00</td>\n",
       "      <td>2.000000e+00</td>\n",
       "      <td>8.000000e+01</td>\n",
       "    </tr>\n",
       "  </tbody>\n",
       "</table>\n",
       "</div>"
      ],
      "text/plain": [
       "       PURCHASE_FLG   PAGE_SERIAL    PRICE_RATE  CATALOG_PRICE  \\\n",
       "count  2.517206e+06  2.517206e+06  2.517206e+06   2.517206e+06   \n",
       "mean   4.862097e-02  7.636990e+00  5.833960e+01   1.080425e+04   \n",
       "std    2.150744e-01  1.226163e+01  1.224105e+01   1.422837e+04   \n",
       "min    0.000000e+00  1.000000e+00  0.000000e+00   1.000000e+00   \n",
       "25%    0.000000e+00  2.000000e+00  5.000000e+01   3.249000e+03   \n",
       "50%    0.000000e+00  4.000000e+00  5.200000e+01   6.000000e+03   \n",
       "75%    0.000000e+00  9.000000e+00  6.400000e+01   1.320000e+04   \n",
       "max    1.000000e+00  1.368000e+03  1.000000e+02   6.800000e+05   \n",
       "\n",
       "       DISCOUNT_PRICE    DISPPERIOD   VALIDPERIOD  USABLE_DATE_MON  \\\n",
       "count    2.517206e+06  2.517206e+06  1.744733e+06     1.538109e+06   \n",
       "mean     4.279764e+03  3.786802e+00  1.256226e+02     9.679815e-01   \n",
       "std      5.486774e+03  3.000429e+00  4.815364e+01     2.445966e-01   \n",
       "min      0.000000e+00  0.000000e+00  0.000000e+00     0.000000e+00   \n",
       "25%      1.470000e+03  3.000000e+00  8.900000e+01     1.000000e+00   \n",
       "50%      2.500000e+03  3.000000e+00  1.320000e+02     1.000000e+00   \n",
       "75%      4.900000e+03  4.000000e+00  1.760000e+02     1.000000e+00   \n",
       "max      1.000000e+05  3.600000e+01  1.790000e+02     2.000000e+00   \n",
       "\n",
       "       USABLE_DATE_TUE  USABLE_DATE_WED  USABLE_DATE_THU  USABLE_DATE_FRI  \\\n",
       "count     1.538109e+06     1.538109e+06     1.538109e+06     1.538109e+06   \n",
       "mean      9.828231e-01     9.913420e-01     9.945030e-01     1.017453e+00   \n",
       "std       2.275536e-01     1.809349e-01     1.654044e-01     3.382537e-01   \n",
       "min       0.000000e+00     0.000000e+00     0.000000e+00     0.000000e+00   \n",
       "25%       1.000000e+00     1.000000e+00     1.000000e+00     1.000000e+00   \n",
       "50%       1.000000e+00     1.000000e+00     1.000000e+00     1.000000e+00   \n",
       "75%       1.000000e+00     1.000000e+00     1.000000e+00     1.000000e+00   \n",
       "max       2.000000e+00     2.000000e+00     2.000000e+00     2.000000e+00   \n",
       "\n",
       "       USABLE_DATE_SAT  USABLE_DATE_SUN  USABLE_DATE_HOLIDAY  \\\n",
       "count     1.538109e+06     1.538109e+06         1.538109e+06   \n",
       "mean      1.136544e+00     9.327486e-01         9.593182e-01   \n",
       "std       6.402163e-01     4.213224e-01         4.046429e-01   \n",
       "min       0.000000e+00     0.000000e+00         0.000000e+00   \n",
       "25%       1.000000e+00     1.000000e+00         1.000000e+00   \n",
       "50%       1.000000e+00     1.000000e+00         1.000000e+00   \n",
       "75%       2.000000e+00     1.000000e+00         1.000000e+00   \n",
       "max       2.000000e+00     2.000000e+00         2.000000e+00   \n",
       "\n",
       "       USABLE_DATE_BEFORE_HOLIDAY           AGE  \n",
       "count                1.538109e+06  2.517206e+06  \n",
       "mean                 1.106846e+00  4.730055e+01  \n",
       "std                  5.986488e-01  1.123943e+01  \n",
       "min                  0.000000e+00  1.500000e+01  \n",
       "25%                  1.000000e+00  3.900000e+01  \n",
       "50%                  1.000000e+00  4.800000e+01  \n",
       "75%                  1.000000e+00  5.500000e+01  \n",
       "max                  2.000000e+00  8.000000e+01  "
      ]
     },
     "execution_count": 14,
     "metadata": {},
     "output_type": "execute_result"
    }
   ],
   "source": [
    "user_visit_coupon.describe()"
   ]
  },
  {
   "cell_type": "code",
   "execution_count": 15,
   "metadata": {},
   "outputs": [
    {
     "data": {
      "text/plain": [
       "PURCHASE_FLG                        0\n",
       "I_DATE                              0\n",
       "PAGE_SERIAL                         0\n",
       "REFERRER_hash                       0\n",
       "VIEW_COUPON_ID_hash                 0\n",
       "USER_ID_hash                        0\n",
       "SESSION_ID_hash                     0\n",
       "PURCHASEID_hash               2394817\n",
       "CAPSULE_TEXT                        0\n",
       "GENRE_NAME                          0\n",
       "PRICE_RATE                          0\n",
       "CATALOG_PRICE                       0\n",
       "DISCOUNT_PRICE                      0\n",
       "DISPFROM                            0\n",
       "DISPEND                             0\n",
       "DISPPERIOD                          0\n",
       "VALIDFROM                      772473\n",
       "VALIDEND                       772473\n",
       "VALIDPERIOD                    772473\n",
       "USABLE_DATE_MON                979097\n",
       "USABLE_DATE_TUE                979097\n",
       "USABLE_DATE_WED                979097\n",
       "USABLE_DATE_THU                979097\n",
       "USABLE_DATE_FRI                979097\n",
       "USABLE_DATE_SAT                979097\n",
       "USABLE_DATE_SUN                979097\n",
       "USABLE_DATE_HOLIDAY            979097\n",
       "USABLE_DATE_BEFORE_HOLIDAY     979097\n",
       "large_area_name                     0\n",
       "ken_name                            0\n",
       "small_area_name                     0\n",
       "COUPON_ID_hash                      0\n",
       "REG_DATE                            0\n",
       "SEX_ID                              0\n",
       "AGE                                 0\n",
       "WITHDRAW_DATE                 2499915\n",
       "PREF_NAME                      483322\n",
       "dtype: int64"
      ]
     },
     "execution_count": 15,
     "metadata": {},
     "output_type": "execute_result"
    }
   ],
   "source": [
    "# Serching null Values \n",
    "user_visit_coupon.isnull().sum()"
   ]
  },
  {
   "cell_type": "code",
   "execution_count": 16,
   "metadata": {},
   "outputs": [],
   "source": [
    "#Converting dates to datetime\n",
    "user_visit_coupon['DISPFROM'] = pd.to_datetime(user_visit_coupon['DISPFROM'], infer_datetime_format=True)\n",
    "user_visit_coupon['DISPEND'] = pd.to_datetime(user_visit_coupon['DISPEND'], infer_datetime_format=True)\n",
    "user_visit_coupon['VALIDFROM'] = pd.to_datetime(user_visit_coupon['VALIDFROM'], infer_datetime_format=True)\n",
    "user_visit_coupon['VALIDEND'] = pd.to_datetime(user_visit_coupon['VALIDEND'], infer_datetime_format=True)\n",
    "user_visit_coupon['WITHDRAW_DATE'] = pd.to_datetime(user_visit_coupon['WITHDRAW_DATE'], infer_datetime_format=True)\n",
    "user_visit_coupon['REG_DATE'] = pd.to_datetime(user_visit_coupon['REG_DATE'], infer_datetime_format=True)\n"
   ]
  },
  {
   "cell_type": "code",
   "execution_count": 17,
   "metadata": {},
   "outputs": [],
   "source": [
    "#Extracting year, month and days in number from dates\n",
    "user_visit_coupon_DISPFROM_year      = user_visit_coupon['DISPFROM'].dt.year\n",
    "user_visit_coupon_DISPFROM_month     = user_visit_coupon['DISPFROM'].dt.month\n",
    "user_visit_coupon_DISPFROM_day       = user_visit_coupon['DISPFROM'].dt.day\n",
    "user_visit_coupon_DISPEND_year       = user_visit_coupon['DISPEND'].dt.year\n",
    "user_visit_coupon_DISPEND_month      = user_visit_coupon['DISPEND'].dt.month\n",
    "user_visit_coupon_DISPEND_day        = user_visit_coupon['DISPEND'].dt.day\n",
    "user_visit_coupon_VALIDFROM_year     = user_visit_coupon['VALIDFROM'].dt.year\n",
    "user_visit_coupon_VALIDFROM_month    = user_visit_coupon['VALIDFROM'].dt.month\n",
    "user_visit_coupon_VALIDFROM_day      = user_visit_coupon['VALIDFROM'].dt.day\n",
    "user_visit_coupon_VALIDEND_year      = user_visit_coupon['VALIDEND'].dt.year\n",
    "user_visit_coupon_VALIDEND_month     = user_visit_coupon['VALIDEND'].dt.month\n",
    "user_visit_coupon_VALIDEND_day       = user_visit_coupon['VALIDEND'].dt.day\n",
    "user_visit_coupon_REG_DATE_DATE_year   = user_visit_coupon['REG_DATE'].dt.year\n",
    "user_visit_coupon_REG_DATE_DATE_month  = user_visit_coupon['REG_DATE'].dt.month\n",
    "user_visit_coupon_REG_DATE_DATE_day    = user_visit_coupon['REG_DATE'].dt.day\n",
    "user_visit_coupon_WITHDRAW_DATE_year   = user_visit_coupon['WITHDRAW_DATE'].dt.year\n",
    "user_visit_coupon_WITHDRAW_DATE_month  = user_visit_coupon['WITHDRAW_DATE'].dt.month\n",
    "user_visit_coupon_WITHDRAW_DATE_day    = user_visit_coupon['WITHDRAW_DATE'].dt.day"
   ]
  },
  {
   "cell_type": "code",
   "execution_count": 18,
   "metadata": {},
   "outputs": [],
   "source": [
    "user_visit_coupon = user_visit_coupon.drop(['DISPFROM', 'DISPEND', 'VALIDFROM', 'VALIDEND', 'WITHDRAW_DATE','REG_DATE'],axis = 1)"
   ]
  },
  {
   "cell_type": "code",
   "execution_count": 19,
   "metadata": {},
   "outputs": [
    {
     "data": {
      "text/plain": [
       "PURCHASE_FLG                        0\n",
       "I_DATE                              0\n",
       "PAGE_SERIAL                         0\n",
       "REFERRER_hash                       0\n",
       "VIEW_COUPON_ID_hash                 0\n",
       "USER_ID_hash                        0\n",
       "SESSION_ID_hash                     0\n",
       "PURCHASEID_hash               2394817\n",
       "CAPSULE_TEXT                        0\n",
       "GENRE_NAME                          0\n",
       "PRICE_RATE                          0\n",
       "CATALOG_PRICE                       0\n",
       "DISCOUNT_PRICE                      0\n",
       "DISPPERIOD                          0\n",
       "VALIDPERIOD                         0\n",
       "USABLE_DATE_MON                     0\n",
       "USABLE_DATE_TUE                     0\n",
       "USABLE_DATE_WED                     0\n",
       "USABLE_DATE_THU                     0\n",
       "USABLE_DATE_FRI                     0\n",
       "USABLE_DATE_SAT                     0\n",
       "USABLE_DATE_SUN                     0\n",
       "USABLE_DATE_HOLIDAY                 0\n",
       "USABLE_DATE_BEFORE_HOLIDAY          0\n",
       "large_area_name                     0\n",
       "ken_name                            0\n",
       "small_area_name                     0\n",
       "COUPON_ID_hash                      0\n",
       "SEX_ID                              0\n",
       "AGE                                 0\n",
       "PREF_NAME                           0\n",
       "dtype: int64"
      ]
     },
     "execution_count": 19,
     "metadata": {},
     "output_type": "execute_result"
    }
   ],
   "source": [
    "#Replacing null values \n",
    "numerical_columns = user_visit_coupon.select_dtypes(np.number).columns\n",
    "user_visit_coupon[numerical_columns] = user_visit_coupon[numerical_columns].fillna(0)\n",
    "user_visit_coupon['PREF_NAME'] =  user_visit_coupon['PREF_NAME'].fillna('unknown')\n",
    "user_visit_coupon.isnull().sum()"
   ]
  },
  {
   "cell_type": "code",
   "execution_count": 20,
   "metadata": {},
   "outputs": [
    {
     "data": {
      "text/plain": [
       "array([25, 50, 49, 29, 33, 59, 43, 34, 44, 38, 52, 47, 55, 30, 57, 35, 64,\n",
       "       42, 39, 53, 36, 54, 56, 45, 58, 61, 48, 27, 41, 62, 37, 46, 32, 60,\n",
       "       28, 65, 21, 51, 40, 69, 79, 31, 71, 63, 26, 66, 24, 23, 72, 70, 73,\n",
       "       68, 75, 77, 67, 22, 76, 20, 78, 74, 18, 80, 17, 19, 15, 16])"
      ]
     },
     "execution_count": 20,
     "metadata": {},
     "output_type": "execute_result"
    }
   ],
   "source": [
    "user_visit_coupon.AGE.unique()"
   ]
  },
  {
   "cell_type": "code",
   "execution_count": 21,
   "metadata": {},
   "outputs": [
    {
     "data": {
      "text/plain": [
       "(15, 80)"
      ]
     },
     "execution_count": 21,
     "metadata": {},
     "output_type": "execute_result"
    }
   ],
   "source": [
    "user_visit_coupon.AGE.min(),user_visit_coupon.AGE.max()"
   ]
  },
  {
   "cell_type": "code",
   "execution_count": 22,
   "metadata": {},
   "outputs": [],
   "source": [
    "#We put the age column in buckets to better visualize the ranges \n",
    "bins = [15, 30, 40, 50, 60,70, 80]\n",
    "labels = ['15-29', '30-39', '40-49', '50-59', '60-69', '70-80']\n",
    "user_visit_coupon['agelabel'] = pd.cut(user_visit_coupon.AGE , bins, labels = labels,include_lowest = True)"
   ]
  },
  {
   "cell_type": "code",
   "execution_count": 23,
   "metadata": {},
   "outputs": [
    {
     "data": {
      "text/plain": [
       "<matplotlib.axes._subplots.AxesSubplot at 0x7fdec94dbc88>"
      ]
     },
     "execution_count": 23,
     "metadata": {},
     "output_type": "execute_result"
    },
    {
     "data": {
      "image/png": "[encoded data removed]",
      "text/plain": [
       "<Figure size 432x288 with 1 Axes>"
      ]
     },
     "metadata": {
      "needs_background": "light"
     },
     "output_type": "display_data"
    }
   ],
   "source": [
    "#Chart to identify the age ranges where coupons are used\n",
    "PURCHASE_POSITIVE = user_visit_coupon[user_visit_coupon['PURCHASE_FLG']==1]\n",
    "gender_age = PURCHASE_POSITIVE.groupby(['SEX_ID','agelabel']).size()\n",
    "gender_age.plot.bar()"
   ]
  },
  {
   "cell_type": "code",
   "execution_count": 24,
   "metadata": {},
   "outputs": [
    {
     "data": {
      "text/plain": [
       "<matplotlib.axes._subplots.AxesSubplot at 0x7fdec93b7c18>"
      ]
     },
     "execution_count": 24,
     "metadata": {},
     "output_type": "execute_result"
    },
    {
     "data": {
      "image/png": "[encoded data removed]",
      "text/plain": [
       "<Figure size 432x288 with 1 Axes>"
      ]
     },
     "metadata": {
      "needs_background": "light"
     },
     "output_type": "display_data"
    }
   ],
   "source": [
    "#Identify in which category of coupons there is more use of coupons\n",
    "pd.crosstab(user_visit_coupon['GENRE_NAME'],user_visit_coupon['PURCHASE_FLG']).plot.bar()"
   ]
  },
  {
   "cell_type": "code",
   "execution_count": 25,
   "metadata": {},
   "outputs": [
    {
     "data": {
      "text/plain": [
       "<matplotlib.axes._subplots.AxesSubplot at 0x7fdec9308f28>"
      ]
     },
     "execution_count": 25,
     "metadata": {},
     "output_type": "execute_result"
    },
    {
     "data": {
      "image/png": "[encoded data removed]",
      "text/plain": [
       "<Figure size 432x288 with 1 Axes>"
      ]
     },
     "metadata": {
      "needs_background": "light"
     },
     "output_type": "display_data"
    }
   ],
   "source": [
    "#Trying to see the largest number of purchases according to the PREF_NAME\n",
    "pd.crosstab(user_visit_coupon['PREF_NAME'],user_visit_coupon['PURCHASE_FLG']).plot.bar()"
   ]
  },
  {
   "cell_type": "code",
   "execution_count": 26,
   "metadata": {},
   "outputs": [],
   "source": [
    "#Percentage of Actual Discount on Price\n",
    "user_visit_coupon['PERCENTAGE_DISCOUNT'] = 100 - user_visit_coupon['PRICE_RATE']"
   ]
  },
  {
   "cell_type": "code",
   "execution_count": 27,
   "metadata": {},
   "outputs": [
    {
     "data": {
      "text/html": [
       "<div>\n",
       "<style scoped>\n",
       "    .dataframe tbody tr th:only-of-type {\n",
       "        vertical-align: middle;\n",
       "    }\n",
       "\n",
       "    .dataframe tbody tr th {\n",
       "        vertical-align: top;\n",
       "    }\n",
       "\n",
       "    .dataframe thead th {\n",
       "        text-align: right;\n",
       "    }\n",
       "</style>\n",
       "<table border=\"1\" class=\"dataframe\">\n",
       "  <thead>\n",
       "    <tr style=\"text-align: right;\">\n",
       "      <th></th>\n",
       "      <th>PRICE_RATE</th>\n",
       "      <th>PERCENTAGE_DISCOUNT</th>\n",
       "      <th>CATALOG_PRICE</th>\n",
       "      <th>DISCOUNT_PRICE</th>\n",
       "    </tr>\n",
       "  </thead>\n",
       "  <tbody>\n",
       "    <tr>\n",
       "      <td>0</td>\n",
       "      <td>78</td>\n",
       "      <td>22</td>\n",
       "      <td>7200</td>\n",
       "      <td>1575</td>\n",
       "    </tr>\n",
       "    <tr>\n",
       "      <td>1</td>\n",
       "      <td>78</td>\n",
       "      <td>22</td>\n",
       "      <td>7200</td>\n",
       "      <td>1575</td>\n",
       "    </tr>\n",
       "    <tr>\n",
       "      <td>2</td>\n",
       "      <td>78</td>\n",
       "      <td>22</td>\n",
       "      <td>7200</td>\n",
       "      <td>1575</td>\n",
       "    </tr>\n",
       "    <tr>\n",
       "      <td>3</td>\n",
       "      <td>78</td>\n",
       "      <td>22</td>\n",
       "      <td>7200</td>\n",
       "      <td>1575</td>\n",
       "    </tr>\n",
       "    <tr>\n",
       "      <td>4</td>\n",
       "      <td>78</td>\n",
       "      <td>22</td>\n",
       "      <td>7200</td>\n",
       "      <td>1575</td>\n",
       "    </tr>\n",
       "  </tbody>\n",
       "</table>\n",
       "</div>"
      ],
      "text/plain": [
       "   PRICE_RATE  PERCENTAGE_DISCOUNT  CATALOG_PRICE  DISCOUNT_PRICE\n",
       "0          78                   22           7200            1575\n",
       "1          78                   22           7200            1575\n",
       "2          78                   22           7200            1575\n",
       "3          78                   22           7200            1575\n",
       "4          78                   22           7200            1575"
      ]
     },
     "execution_count": 27,
     "metadata": {},
     "output_type": "execute_result"
    }
   ],
   "source": [
    "user_visit_coupon[['PRICE_RATE','PERCENTAGE_DISCOUNT','CATALOG_PRICE','DISCOUNT_PRICE']].head()"
   ]
  },
  {
   "cell_type": "code",
   "execution_count": 28,
   "metadata": {},
   "outputs": [],
   "source": [
    "user_visit_coupon  = user_visit_coupon.drop(['I_DATE', 'PAGE_SERIAL', 'REFERRER_hash',\n",
    "       'VIEW_COUPON_ID_hash', 'USER_ID_hash', 'SESSION_ID_hash',\n",
    "       'PURCHASEID_hash','CAPSULE_TEXT','PRICE_RATE','AGE'],axis=1)\n"
   ]
  },
  {
   "cell_type": "code",
   "execution_count": 29,
   "metadata": {},
   "outputs": [
    {
     "data": {
      "text/plain": [
       "array([0., 1., 2.])"
      ]
     },
     "execution_count": 29,
     "metadata": {},
     "output_type": "execute_result"
    }
   ],
   "source": [
    "#I don't know exactly what 2 means in those kind of features...\n",
    "#Let's take the value 2 like - Available with restrictions related with the location according to kaggle discussions\n",
    "user_visit_coupon.USABLE_DATE_FRI.unique()"
   ]
  },
  {
   "cell_type": "markdown",
   "metadata": {},
   "source": [
    "**Feature engineering**"
   ]
  },
  {
   "cell_type": "code",
   "execution_count": 30,
   "metadata": {},
   "outputs": [],
   "source": [
    "### convert categoricals to OneHotEncoder form\n",
    "categoricals = ['GENRE_NAME', 'large_area_name', 'ken_name', 'small_area_name', 'agelabel','SEX_ID','PREF_NAME']\n",
    "combined_categoricals = user_visit_coupon[categoricals]\n",
    "combined_categoricals = pd.get_dummies(combined_categoricals,dummy_na=False)"
   ]
  },
  {
   "cell_type": "code",
   "execution_count": 31,
   "metadata": {},
   "outputs": [],
   "source": [
    "user_visit_coupon = user_visit_coupon.drop(['GENRE_NAME', 'large_area_name', 'ken_name', 'small_area_name', 'agelabel','SEX_ID','PREF_NAME','COUPON_ID_hash'],axis = 1)"
   ]
  },
  {
   "cell_type": "code",
   "execution_count": 32,
   "metadata": {},
   "outputs": [],
   "source": [
    "#Putting together the categorical columns\n",
    "user_visit_coupon = pd.concat([user_visit_coupon,combined_categoricals], axis=1)"
   ]
  },
  {
   "cell_type": "code",
   "execution_count": 33,
   "metadata": {},
   "outputs": [
    {
     "data": {
      "text/html": [
       "<div>\n",
       "<style scoped>\n",
       "    .dataframe tbody tr th:only-of-type {\n",
       "        vertical-align: middle;\n",
       "    }\n",
       "\n",
       "    .dataframe tbody tr th {\n",
       "        vertical-align: top;\n",
       "    }\n",
       "\n",
       "    .dataframe thead th {\n",
       "        text-align: right;\n",
       "    }\n",
       "</style>\n",
       "<table border=\"1\" class=\"dataframe\">\n",
       "  <thead>\n",
       "    <tr style=\"text-align: right;\">\n",
       "      <th></th>\n",
       "      <th>PURCHASE_FLG</th>\n",
       "      <th>CATALOG_PRICE</th>\n",
       "      <th>DISCOUNT_PRICE</th>\n",
       "      <th>DISPPERIOD</th>\n",
       "      <th>VALIDPERIOD</th>\n",
       "      <th>USABLE_DATE_MON</th>\n",
       "      <th>USABLE_DATE_TUE</th>\n",
       "      <th>USABLE_DATE_WED</th>\n",
       "      <th>USABLE_DATE_THU</th>\n",
       "      <th>USABLE_DATE_FRI</th>\n",
       "      <th>...</th>\n",
       "      <th>PREF_NAME_Tochigi Prefecture</th>\n",
       "      <th>PREF_NAME_Tokushima Prefecture</th>\n",
       "      <th>PREF_NAME_Tokyo</th>\n",
       "      <th>PREF_NAME_Tottori Prefecture</th>\n",
       "      <th>PREF_NAME_Toyama Prefecture</th>\n",
       "      <th>PREF_NAME_Wakayama Prefecture</th>\n",
       "      <th>PREF_NAME_Yamagata Prefecture</th>\n",
       "      <th>PREF_NAME_Yamaguchi Prefecture</th>\n",
       "      <th>PREF_NAME_Yamanashi Prefecture</th>\n",
       "      <th>PREF_NAME_unknown</th>\n",
       "    </tr>\n",
       "  </thead>\n",
       "  <tbody>\n",
       "    <tr>\n",
       "      <td>0</td>\n",
       "      <td>0</td>\n",
       "      <td>7200</td>\n",
       "      <td>1575</td>\n",
       "      <td>4</td>\n",
       "      <td>0.0</td>\n",
       "      <td>0.0</td>\n",
       "      <td>0.0</td>\n",
       "      <td>0.0</td>\n",
       "      <td>0.0</td>\n",
       "      <td>0.0</td>\n",
       "      <td>...</td>\n",
       "      <td>0</td>\n",
       "      <td>0</td>\n",
       "      <td>0</td>\n",
       "      <td>0</td>\n",
       "      <td>0</td>\n",
       "      <td>0</td>\n",
       "      <td>0</td>\n",
       "      <td>0</td>\n",
       "      <td>0</td>\n",
       "      <td>1</td>\n",
       "    </tr>\n",
       "    <tr>\n",
       "      <td>1</td>\n",
       "      <td>0</td>\n",
       "      <td>7200</td>\n",
       "      <td>1575</td>\n",
       "      <td>4</td>\n",
       "      <td>0.0</td>\n",
       "      <td>0.0</td>\n",
       "      <td>0.0</td>\n",
       "      <td>0.0</td>\n",
       "      <td>0.0</td>\n",
       "      <td>0.0</td>\n",
       "      <td>...</td>\n",
       "      <td>0</td>\n",
       "      <td>0</td>\n",
       "      <td>0</td>\n",
       "      <td>0</td>\n",
       "      <td>0</td>\n",
       "      <td>0</td>\n",
       "      <td>0</td>\n",
       "      <td>0</td>\n",
       "      <td>0</td>\n",
       "      <td>1</td>\n",
       "    </tr>\n",
       "    <tr>\n",
       "      <td>2</td>\n",
       "      <td>0</td>\n",
       "      <td>7200</td>\n",
       "      <td>1575</td>\n",
       "      <td>4</td>\n",
       "      <td>0.0</td>\n",
       "      <td>0.0</td>\n",
       "      <td>0.0</td>\n",
       "      <td>0.0</td>\n",
       "      <td>0.0</td>\n",
       "      <td>0.0</td>\n",
       "      <td>...</td>\n",
       "      <td>0</td>\n",
       "      <td>0</td>\n",
       "      <td>0</td>\n",
       "      <td>0</td>\n",
       "      <td>0</td>\n",
       "      <td>0</td>\n",
       "      <td>0</td>\n",
       "      <td>0</td>\n",
       "      <td>0</td>\n",
       "      <td>1</td>\n",
       "    </tr>\n",
       "    <tr>\n",
       "      <td>3</td>\n",
       "      <td>1</td>\n",
       "      <td>7200</td>\n",
       "      <td>1575</td>\n",
       "      <td>4</td>\n",
       "      <td>0.0</td>\n",
       "      <td>0.0</td>\n",
       "      <td>0.0</td>\n",
       "      <td>0.0</td>\n",
       "      <td>0.0</td>\n",
       "      <td>0.0</td>\n",
       "      <td>...</td>\n",
       "      <td>0</td>\n",
       "      <td>0</td>\n",
       "      <td>0</td>\n",
       "      <td>0</td>\n",
       "      <td>0</td>\n",
       "      <td>0</td>\n",
       "      <td>0</td>\n",
       "      <td>0</td>\n",
       "      <td>0</td>\n",
       "      <td>1</td>\n",
       "    </tr>\n",
       "    <tr>\n",
       "      <td>4</td>\n",
       "      <td>0</td>\n",
       "      <td>7200</td>\n",
       "      <td>1575</td>\n",
       "      <td>4</td>\n",
       "      <td>0.0</td>\n",
       "      <td>0.0</td>\n",
       "      <td>0.0</td>\n",
       "      <td>0.0</td>\n",
       "      <td>0.0</td>\n",
       "      <td>0.0</td>\n",
       "      <td>...</td>\n",
       "      <td>0</td>\n",
       "      <td>0</td>\n",
       "      <td>0</td>\n",
       "      <td>0</td>\n",
       "      <td>0</td>\n",
       "      <td>0</td>\n",
       "      <td>0</td>\n",
       "      <td>0</td>\n",
       "      <td>0</td>\n",
       "      <td>1</td>\n",
       "    </tr>\n",
       "  </tbody>\n",
       "</table>\n",
       "<p>5 rows × 195 columns</p>\n",
       "</div>"
      ],
      "text/plain": [
       "   PURCHASE_FLG  CATALOG_PRICE  DISCOUNT_PRICE  DISPPERIOD  VALIDPERIOD  \\\n",
       "0             0           7200            1575           4          0.0   \n",
       "1             0           7200            1575           4          0.0   \n",
       "2             0           7200            1575           4          0.0   \n",
       "3             1           7200            1575           4          0.0   \n",
       "4             0           7200            1575           4          0.0   \n",
       "\n",
       "   USABLE_DATE_MON  USABLE_DATE_TUE  USABLE_DATE_WED  USABLE_DATE_THU  \\\n",
       "0              0.0              0.0              0.0              0.0   \n",
       "1              0.0              0.0              0.0              0.0   \n",
       "2              0.0              0.0              0.0              0.0   \n",
       "3              0.0              0.0              0.0              0.0   \n",
       "4              0.0              0.0              0.0              0.0   \n",
       "\n",
       "   USABLE_DATE_FRI  ...  PREF_NAME_Tochigi Prefecture  \\\n",
       "0              0.0  ...                             0   \n",
       "1              0.0  ...                             0   \n",
       "2              0.0  ...                             0   \n",
       "3              0.0  ...                             0   \n",
       "4              0.0  ...                             0   \n",
       "\n",
       "   PREF_NAME_Tokushima Prefecture  PREF_NAME_Tokyo  \\\n",
       "0                               0                0   \n",
       "1                               0                0   \n",
       "2                               0                0   \n",
       "3                               0                0   \n",
       "4                               0                0   \n",
       "\n",
       "   PREF_NAME_Tottori Prefecture  PREF_NAME_Toyama Prefecture  \\\n",
       "0                             0                            0   \n",
       "1                             0                            0   \n",
       "2                             0                            0   \n",
       "3                             0                            0   \n",
       "4                             0                            0   \n",
       "\n",
       "   PREF_NAME_Wakayama Prefecture  PREF_NAME_Yamagata Prefecture  \\\n",
       "0                              0                              0   \n",
       "1                              0                              0   \n",
       "2                              0                              0   \n",
       "3                              0                              0   \n",
       "4                              0                              0   \n",
       "\n",
       "   PREF_NAME_Yamaguchi Prefecture  PREF_NAME_Yamanashi Prefecture  \\\n",
       "0                               0                               0   \n",
       "1                               0                               0   \n",
       "2                               0                               0   \n",
       "3                               0                               0   \n",
       "4                               0                               0   \n",
       "\n",
       "   PREF_NAME_unknown  \n",
       "0                  1  \n",
       "1                  1  \n",
       "2                  1  \n",
       "3                  1  \n",
       "4                  1  \n",
       "\n",
       "[5 rows x 195 columns]"
      ]
     },
     "execution_count": 33,
     "metadata": {},
     "output_type": "execute_result"
    }
   ],
   "source": [
    "user_visit_coupon.head()"
   ]
  },
  {
   "cell_type": "code",
   "execution_count": 34,
   "metadata": {},
   "outputs": [
    {
     "data": {
      "text/plain": [
       "PURCHASE_FLG\n",
       "0    2394817\n",
       "1     122389\n",
       "dtype: int64"
      ]
     },
     "execution_count": 34,
     "metadata": {},
     "output_type": "execute_result"
    }
   ],
   "source": [
    "#Know if binary values are balanced\n",
    "user_visit_coupon.groupby(['PURCHASE_FLG']).size()"
   ]
  },
  {
   "cell_type": "code",
   "execution_count": 35,
   "metadata": {},
   "outputs": [
    {
     "data": {
      "text/plain": [
       "<matplotlib.axes._subplots.AxesSubplot at 0x7fdec90652e8>"
      ]
     },
     "execution_count": 35,
     "metadata": {},
     "output_type": "execute_result"
    },
    {
     "data": {
      "image/png": "[encoded data removed]",
      "text/plain": [
       "<Figure size 432x288 with 1 Axes>"
      ]
     },
     "metadata": {
      "needs_background": "light"
     },
     "output_type": "display_data"
    }
   ],
   "source": [
    "#With this graph we can see we have an imbalanced dataset  \n",
    "user_visit_coupon.groupby(['PURCHASE_FLG']).size().plot.bar()"
   ]
  },
  {
   "cell_type": "code",
   "execution_count": 36,
   "metadata": {},
   "outputs": [],
   "source": [
    "# Separate input features and target\n",
    "y = user_visit_coupon.PURCHASE_FLG\n",
    "X = user_visit_coupon.drop('PURCHASE_FLG', axis=1)"
   ]
  },
  {
   "cell_type": "code",
   "execution_count": 37,
   "metadata": {},
   "outputs": [
    {
     "data": {
      "text/plain": [
       "(2517206, 195)"
      ]
     },
     "execution_count": 37,
     "metadata": {},
     "output_type": "execute_result"
    }
   ],
   "source": [
    "user_visit_coupon.shape"
   ]
  },
  {
   "cell_type": "code",
   "execution_count": 38,
   "metadata": {},
   "outputs": [],
   "source": [
    "# Testing and training sets\n",
    "X_train, X_test, y_train, y_test = train_test_split(X, y, test_size=0.25, random_state=27)"
   ]
  },
  {
   "cell_type": "markdown",
   "metadata": {},
   "source": [
    "**Downsampling the data because the imbalance of the data**"
   ]
  },
  {
   "cell_type": "code",
   "execution_count": 39,
   "metadata": {},
   "outputs": [],
   "source": [
    "# Data back together\n",
    "X = pd.concat([X_train, y_train], axis=1)"
   ]
  },
  {
   "cell_type": "code",
   "execution_count": 40,
   "metadata": {},
   "outputs": [],
   "source": [
    "# Separate minority and majority \n",
    "not_purchase = X[X.PURCHASE_FLG==0]\n",
    "purchase = X[X.PURCHASE_FLG==1]"
   ]
  },
  {
   "cell_type": "code",
   "execution_count": 41,
   "metadata": {},
   "outputs": [],
   "source": [
    "# Downsampled majority\n",
    "purchase_downsampled = resample(not_purchase,\n",
    "                          replace=False, # sample with replacement\n",
    "                          n_samples=len(purchase), # match number in majority class\n",
    "                          random_state=48) # reproducible results"
   ]
  },
  {
   "cell_type": "code",
   "execution_count": 42,
   "metadata": {},
   "outputs": [
    {
     "data": {
      "text/plain": [
       "1    91691\n",
       "0    91691\n",
       "Name: PURCHASE_FLG, dtype: int64"
      ]
     },
     "execution_count": 42,
     "metadata": {},
     "output_type": "execute_result"
    }
   ],
   "source": [
    "downsampled = pd.concat([purchase, purchase_downsampled])\n",
    "downsampled.PURCHASE_FLG.value_counts()"
   ]
  },
  {
   "cell_type": "code",
   "execution_count": 43,
   "metadata": {},
   "outputs": [
    {
     "data": {
      "text/plain": [
       "Index(['CATALOG_PRICE', 'DISCOUNT_PRICE', 'DISPPERIOD', 'VALIDPERIOD',\n",
       "       'USABLE_DATE_MON', 'USABLE_DATE_TUE', 'USABLE_DATE_WED',\n",
       "       'USABLE_DATE_THU', 'USABLE_DATE_FRI', 'USABLE_DATE_SAT',\n",
       "       ...\n",
       "       'PREF_NAME_Tokushima Prefecture', 'PREF_NAME_Tokyo',\n",
       "       'PREF_NAME_Tottori Prefecture', 'PREF_NAME_Toyama Prefecture',\n",
       "       'PREF_NAME_Wakayama Prefecture', 'PREF_NAME_Yamagata Prefecture',\n",
       "       'PREF_NAME_Yamaguchi Prefecture', 'PREF_NAME_Yamanashi Prefecture',\n",
       "       'PREF_NAME_unknown', 'PURCHASE_FLG'],\n",
       "      dtype='object', length=195)"
      ]
     },
     "execution_count": 43,
     "metadata": {},
     "output_type": "execute_result"
    }
   ],
   "source": [
    "downsampled.columns"
   ]
  },
  {
   "cell_type": "code",
   "execution_count": 44,
   "metadata": {},
   "outputs": [],
   "source": [
    "y_train = downsampled.PURCHASE_FLG\n",
    "X_train = downsampled.drop('PURCHASE_FLG', axis=1)"
   ]
  },
  {
   "cell_type": "markdown",
   "metadata": {},
   "source": [
    "**Training the models **"
   ]
  },
  {
   "cell_type": "code",
   "execution_count": 45,
   "metadata": {},
   "outputs": [
    {
     "data": {
      "text/plain": [
       "LogisticRegression(C=1.0, class_weight=None, dual=False, fit_intercept=True,\n",
       "                   intercept_scaling=1, l1_ratio=None, max_iter=100,\n",
       "                   multi_class='warn', n_jobs=None, penalty='l2',\n",
       "                   random_state=None, solver='lbfgs', tol=0.0001, verbose=0,\n",
       "                   warm_start=False)"
      ]
     },
     "execution_count": 45,
     "metadata": {},
     "output_type": "execute_result"
    }
   ],
   "source": [
    "#Logistic Regression model\n",
    "model_LR = LogisticRegression(solver='lbfgs')\n",
    "model_LR.fit(X_train, y_train)"
   ]
  },
  {
   "cell_type": "code",
   "execution_count": 46,
   "metadata": {},
   "outputs": [],
   "source": [
    "pred_LR = model_LR.predict(X_test)"
   ]
  },
  {
   "cell_type": "code",
   "execution_count": 47,
   "metadata": {},
   "outputs": [
    {
     "data": {
      "text/plain": [
       "0.5819225109724743"
      ]
     },
     "execution_count": 47,
     "metadata": {},
     "output_type": "execute_result"
    }
   ],
   "source": [
    "#Evaluating the Algorithm\n",
    "# Checking accuracy\n",
    "from sklearn.metrics import accuracy_score,f1_score, recall_score\n",
    "accuracy_score(y_test, pred_LR)"
   ]
  },
  {
   "cell_type": "code",
   "execution_count": 48,
   "metadata": {},
   "outputs": [
    {
     "data": {
      "text/plain": [
       "0.1280412022629428"
      ]
     },
     "execution_count": 48,
     "metadata": {},
     "output_type": "execute_result"
    }
   ],
   "source": [
    "# f1 score\n",
    "f1_score(y_test, pred_LR)"
   ]
  },
  {
   "cell_type": "code",
   "execution_count": 49,
   "metadata": {},
   "outputs": [
    {
     "data": {
      "text/plain": [
       "0.6292592351293244"
      ]
     },
     "execution_count": 49,
     "metadata": {},
     "output_type": "execute_result"
    }
   ],
   "source": [
    "#Recall\n",
    "recall_score(y_test, pred_LR)"
   ]
  },
  {
   "cell_type": "code",
   "execution_count": 50,
   "metadata": {},
   "outputs": [
    {
     "name": "stdout",
     "output_type": "stream",
     "text": [
      "Requirement already satisfied: joblib in /opt/conda/lib/python3.6/site-packages (0.13.2)\r\n",
      "Note: you may need to restart the kernel to use updated packages.\n"
     ]
    }
   ],
   "source": [
    " pip install joblib"
   ]
  },
  {
   "cell_type": "code",
   "execution_count": 51,
   "metadata": {},
   "outputs": [
    {
     "data": {
      "text/plain": [
       "['model.pkl']"
      ]
     },
     "execution_count": 51,
     "metadata": {},
     "output_type": "execute_result"
    }
   ],
   "source": [
    "##RandomForest Classifier  model\n",
    "import joblib\n",
    "RF = RandomForestClassifier(n_estimators=60, max_depth=2, random_state=27)\n",
    "RF.fit(X_train, y_train)\n",
    "# save model\n",
    "joblib.dump(RF, 'model.pkl')"
   ]
  },
  {
   "cell_type": "code",
   "execution_count": 52,
   "metadata": {},
   "outputs": [],
   "source": [
    "y_pred_rf = RF.predict(X_test)"
   ]
  },
  {
   "cell_type": "code",
   "execution_count": 53,
   "metadata": {},
   "outputs": [
    {
     "data": {
      "text/plain": [
       "0.6115489860194311"
      ]
     },
     "execution_count": 53,
     "metadata": {},
     "output_type": "execute_result"
    }
   ],
   "source": [
    "#Evaluating the Algorithm\n",
    "# Checking accuracy\n",
    "accuracy_score(y_test, y_pred_rf)"
   ]
  },
  {
   "cell_type": "code",
   "execution_count": 54,
   "metadata": {},
   "outputs": [
    {
     "name": "stdout",
     "output_type": "stream",
     "text": [
      "[[367102 231502]\n",
      " [ 12951  17747]]\n",
      "              precision    recall  f1-score   support\n",
      "\n",
      "           0       0.97      0.61      0.75    598604\n",
      "           1       0.07      0.58      0.13     30698\n",
      "\n",
      "    accuracy                           0.61    629302\n",
      "   macro avg       0.52      0.60      0.44    629302\n",
      "weighted avg       0.92      0.61      0.72    629302\n",
      "\n"
     ]
    }
   ],
   "source": [
    "from sklearn.metrics import classification_report, confusion_matrix\n",
    "print(confusion_matrix(y_test,y_pred_rf))\n",
    "print(classification_report(y_test,y_pred_rf))"
   ]
  },
  {
   "cell_type": "code",
   "execution_count": 55,
   "metadata": {},
   "outputs": [
    {
     "data": {
      "text/plain": [
       "0    598604\n",
       "1     30698\n",
       "Name: PURCHASE_FLG, dtype: int64"
      ]
     },
     "execution_count": 55,
     "metadata": {},
     "output_type": "execute_result"
    }
   ],
   "source": [
    "y_test.value_counts()"
   ]
  },
  {
   "cell_type": "code",
   "execution_count": null,
   "metadata": {},
   "outputs": [],
   "source": []
  }
 ],
 "metadata": {
  "kernelspec": {
   "display_name": "Python 3",
   "language": "python",
   "name": "python3"
  },
  "language_info": {
   "codemirror_mode": {
    "name": "ipython",
    "version": 3
   },
   "file_extension": ".py",
   "mimetype": "text/x-python",
   "name": "python",
   "nbconvert_exporter": "python",
   "pygments_lexer": "ipython3",
   "version": "3.6.6"
  }
 },
 "nbformat": 4,
 "nbformat_minor": 1
}
